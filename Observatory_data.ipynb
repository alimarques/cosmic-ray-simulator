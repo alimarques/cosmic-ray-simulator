{
 "cells": [
  {
   "cell_type": "markdown",
   "metadata": {},
   "source": [
    "# Manipulação de dados do Observatório Pierre Auger"
   ]
  },
  {
   "cell_type": "code",
   "execution_count": 30,
   "metadata": {},
   "outputs": [],
   "source": [
    "import numpy as np\n",
    "import pandas as pd\n",
    "import matplotlib.pyplot as plt\n",
    "import math\n",
    "from scipy.stats import poisson\n",
    "path = 'C:/Users/alice/Documents/Unicamp/IC 2018 - 2019/Imagens IC/'\n",
    "azulQuanta = '#117DF5'\n",
    "azuldarkQuanta = '#086A99'\n",
    "laranjaShow = '#FF7F27'"
   ]
  },
  {
   "cell_type": "code",
   "execution_count": 2,
   "metadata": {},
   "outputs": [
    {
     "data": {
      "text/html": [
       "<div>\n",
       "<style scoped>\n",
       "    .dataframe tbody tr th:only-of-type {\n",
       "        vertical-align: middle;\n",
       "    }\n",
       "\n",
       "    .dataframe tbody tr th {\n",
       "        vertical-align: top;\n",
       "    }\n",
       "\n",
       "    .dataframe thead th {\n",
       "        text-align: right;\n",
       "    }\n",
       "</style>\n",
       "<table border=\"1\" class=\"dataframe\">\n",
       "  <thead>\n",
       "    <tr style=\"text-align: right;\">\n",
       "      <th></th>\n",
       "      <th>id</th>\n",
       "      <th>theta</th>\n",
       "      <th>E</th>\n",
       "      <th>ra</th>\n",
       "      <th>dec</th>\n",
       "    </tr>\n",
       "  </thead>\n",
       "  <tbody>\n",
       "    <tr>\n",
       "      <th>0</th>\n",
       "      <td>70137858700</td>\n",
       "      <td>14.22</td>\n",
       "      <td>164.926</td>\n",
       "      <td>192.91</td>\n",
       "      <td>-21.15</td>\n",
       "    </tr>\n",
       "    <tr>\n",
       "      <th>1</th>\n",
       "      <td>142937927500</td>\n",
       "      <td>6.85</td>\n",
       "      <td>154.648</td>\n",
       "      <td>102.89</td>\n",
       "      <td>-37.83</td>\n",
       "    </tr>\n",
       "    <tr>\n",
       "      <th>2</th>\n",
       "      <td>182242127601</td>\n",
       "      <td>47.85</td>\n",
       "      <td>147.480</td>\n",
       "      <td>125.04</td>\n",
       "      <td>-0.61</td>\n",
       "    </tr>\n",
       "    <tr>\n",
       "      <th>3</th>\n",
       "      <td>82685012000</td>\n",
       "      <td>49.82</td>\n",
       "      <td>141.030</td>\n",
       "      <td>287.76</td>\n",
       "      <td>1.55</td>\n",
       "    </tr>\n",
       "    <tr>\n",
       "      <th>4</th>\n",
       "      <td>140650707000</td>\n",
       "      <td>58.47</td>\n",
       "      <td>132.283</td>\n",
       "      <td>340.57</td>\n",
       "      <td>11.97</td>\n",
       "    </tr>\n",
       "  </tbody>\n",
       "</table>\n",
       "</div>"
      ],
      "text/plain": [
       "             id  theta        E      ra    dec\n",
       "0   70137858700  14.22  164.926  192.91 -21.15\n",
       "1  142937927500   6.85  154.648  102.89 -37.83\n",
       "2  182242127601  47.85  147.480  125.04  -0.61\n",
       "3   82685012000  49.82  141.030  287.76   1.55\n",
       "4  140650707000  58.47  132.283  340.57  11.97"
      ]
     },
     "execution_count": 2,
     "metadata": {},
     "output_type": "execute_result"
    }
   ],
   "source": [
    "dadosAuger = pd.read_csv('eventos_Auger.csv')\n",
    "len(dadosAuger)\n",
    "dadosAuger.head()"
   ]
  },
  {
   "cell_type": "code",
   "execution_count": 3,
   "metadata": {},
   "outputs": [
    {
     "data": {
      "text/html": [
       "<div>\n",
       "<style scoped>\n",
       "    .dataframe tbody tr th:only-of-type {\n",
       "        vertical-align: middle;\n",
       "    }\n",
       "\n",
       "    .dataframe tbody tr th {\n",
       "        vertical-align: top;\n",
       "    }\n",
       "\n",
       "    .dataframe thead th {\n",
       "        text-align: right;\n",
       "    }\n",
       "</style>\n",
       "<table border=\"1\" class=\"dataframe\">\n",
       "  <thead>\n",
       "    <tr style=\"text-align: right;\">\n",
       "      <th></th>\n",
       "      <th>id</th>\n",
       "      <th>theta</th>\n",
       "      <th>E</th>\n",
       "      <th>ra</th>\n",
       "      <th>dec</th>\n",
       "    </tr>\n",
       "  </thead>\n",
       "  <tbody>\n",
       "    <tr>\n",
       "      <th>count</th>\n",
       "      <td>1.119000e+03</td>\n",
       "      <td>1119.000000</td>\n",
       "      <td>1119.000000</td>\n",
       "      <td>1119.000000</td>\n",
       "      <td>1119.000000</td>\n",
       "    </tr>\n",
       "    <tr>\n",
       "      <th>mean</th>\n",
       "      <td>1.228985e+11</td>\n",
       "      <td>42.573404</td>\n",
       "      <td>54.208823</td>\n",
       "      <td>176.756127</td>\n",
       "      <td>-27.482956</td>\n",
       "    </tr>\n",
       "    <tr>\n",
       "      <th>std</th>\n",
       "      <td>3.771294e+10</td>\n",
       "      <td>19.504456</td>\n",
       "      <td>15.906922</td>\n",
       "      <td>101.531077</td>\n",
       "      <td>28.398628</td>\n",
       "    </tr>\n",
       "    <tr>\n",
       "      <th>min</th>\n",
       "      <td>4.019011e+10</td>\n",
       "      <td>0.860000</td>\n",
       "      <td>40.005500</td>\n",
       "      <td>0.170000</td>\n",
       "      <td>-87.290000</td>\n",
       "    </tr>\n",
       "    <tr>\n",
       "      <th>25%</th>\n",
       "      <td>9.243510e+10</td>\n",
       "      <td>26.910000</td>\n",
       "      <td>43.638200</td>\n",
       "      <td>93.105000</td>\n",
       "      <td>-48.665000</td>\n",
       "    </tr>\n",
       "    <tr>\n",
       "      <th>50%</th>\n",
       "      <td>1.224006e+11</td>\n",
       "      <td>43.110000</td>\n",
       "      <td>48.548600</td>\n",
       "      <td>180.170000</td>\n",
       "      <td>-28.630000</td>\n",
       "    </tr>\n",
       "    <tr>\n",
       "      <th>75%</th>\n",
       "      <td>1.535363e+11</td>\n",
       "      <td>58.420000</td>\n",
       "      <td>59.568800</td>\n",
       "      <td>257.445000</td>\n",
       "      <td>-6.270000</td>\n",
       "    </tr>\n",
       "    <tr>\n",
       "      <th>max</th>\n",
       "      <td>1.824050e+11</td>\n",
       "      <td>79.951100</td>\n",
       "      <td>164.926000</td>\n",
       "      <td>359.950000</td>\n",
       "      <td>42.792500</td>\n",
       "    </tr>\n",
       "  </tbody>\n",
       "</table>\n",
       "</div>"
      ],
      "text/plain": [
       "                 id        theta            E           ra          dec\n",
       "count  1.119000e+03  1119.000000  1119.000000  1119.000000  1119.000000\n",
       "mean   1.228985e+11    42.573404    54.208823   176.756127   -27.482956\n",
       "std    3.771294e+10    19.504456    15.906922   101.531077    28.398628\n",
       "min    4.019011e+10     0.860000    40.005500     0.170000   -87.290000\n",
       "25%    9.243510e+10    26.910000    43.638200    93.105000   -48.665000\n",
       "50%    1.224006e+11    43.110000    48.548600   180.170000   -28.630000\n",
       "75%    1.535363e+11    58.420000    59.568800   257.445000    -6.270000\n",
       "max    1.824050e+11    79.951100   164.926000   359.950000    42.792500"
      ]
     },
     "execution_count": 3,
     "metadata": {},
     "output_type": "execute_result"
    }
   ],
   "source": [
    "dadosAuger_Energy = dadosAuger[dadosAuger.E>=40]\n",
    "dadosAuger_Energy.describe()"
   ]
  },
  {
   "cell_type": "code",
   "execution_count": 4,
   "metadata": {},
   "outputs": [],
   "source": [
    "Energia = dadosAuger_Energy['E']\n",
    "phi = dadosAuger_Energy['ra']\n",
    "theta = 90 - dadosAuger_Energy['dec']\n",
    "#print(np.cos(np.radians(theta)))\n",
    "\n",
    "def is_nan(x):\n",
    "    return (x is np.nan or x != x)\n",
    "\n",
    "for value in theta:\n",
    "    resposta = is_nan(value)\n",
    "    if resposta == True:\n",
    "        print (value)"
   ]
  },
  {
   "cell_type": "code",
   "execution_count": 5,
   "metadata": {},
   "outputs": [
    {
     "data": {
      "image/png": "[encoded data removed]",
      "text/plain": [
       "<Figure size 432x288 with 1 Axes>"
      ]
     },
     "metadata": {
      "needs_background": "light"
     },
     "output_type": "display_data"
    }
   ],
   "source": [
    "div = 50\n",
    "plt.hist(Energia, bins = div, density=True, edgecolor='white',facecolor=azulQuanta)\n",
    "plt.xlabel('Energia (EeV)', fontsize = 12)\n",
    "plt.ylabel('Frequência', fontsize = 12)\n",
    "#plt.xlim(40,100)\n",
    "plt.savefig(path+'Energia_Auger', ext='png')\n",
    "plt.show()"
   ]
  },
  {
   "cell_type": "code",
   "execution_count": 6,
   "metadata": {},
   "outputs": [
    {
     "data": {
      "image/png": "[encoded data removed]",
      "text/plain": [
       "<Figure size 432x288 with 1 Axes>"
      ]
     },
     "metadata": {
      "needs_background": "light"
     },
     "output_type": "display_data"
    }
   ],
   "source": [
    "div = 30\n",
    "plt.hist(phi, bins = div, density=True, edgecolor='white',facecolor=azulQuanta)\n",
    "plt.xlabel('Phi (graus)', fontsize = 12)\n",
    "plt.ylabel('Frequência', fontsize = 12)\n",
    "#plt.xlim(40,100)\n",
    "plt.savefig(path+'Phi_Auger', ext='png')\n",
    "plt.show()"
   ]
  },
  {
   "cell_type": "code",
   "execution_count": 7,
   "metadata": {},
   "outputs": [
    {
     "data": {
      "image/png": "[encoded data removed]",
      "text/plain": [
       "<Figure size 432x288 with 1 Axes>"
      ]
     },
     "metadata": {
      "needs_background": "light"
     },
     "output_type": "display_data"
    }
   ],
   "source": [
    "div = 30\n",
    "plt.hist(np.cos(np.radians(theta)), bins = div, density=True, edgecolor='white',facecolor=azulQuanta)\n",
    "plt.xlabel(r'$cos \\theta$', fontsize = 12)\n",
    "plt.ylabel('Frequência', fontsize = 12)\n",
    "#plt.xlim(40,100)\n",
    "plt.savefig(path+'Theta_Auger', ext='png')\n",
    "plt.show()"
   ]
  },
  {
   "cell_type": "code",
   "execution_count": 8,
   "metadata": {},
   "outputs": [],
   "source": [
    "def distanciaCosseno(theta, phi):\n",
    "    distancias = []\n",
    "    x = np.sin(theta)*np.cos(phi)\n",
    "    y = np.sin(theta)*np.sin(phi)\n",
    "    z = np.cos(theta)\n",
    "    for i in range(len(theta)):\n",
    "        j = i+1\n",
    "        while j<len(theta):\n",
    "            d = x[i]*x[j]+y[i]*y[j]+z[i]*z[j]\n",
    "            distancias.append(d)\n",
    "            j+=1\n",
    "    return distancias"
   ]
  },
  {
   "cell_type": "code",
   "execution_count": 9,
   "metadata": {},
   "outputs": [
    {
     "name": "stdout",
     "output_type": "stream",
     "text": [
      "47.2075\n"
     ]
    }
   ],
   "source": [
    "theta_rad = theta*np.pi/180\n",
    "\n",
    "phi_rad = phi*np.pi/180\n",
    "\n",
    "print(min(theta_rad)*180/np.pi)"
   ]
  },
  {
   "cell_type": "code",
   "execution_count": 10,
   "metadata": {},
   "outputs": [],
   "source": [
    "distanciasDirecoes = distanciaCosseno(theta_rad,phi_rad)"
   ]
  },
  {
   "cell_type": "code",
   "execution_count": 11,
   "metadata": {},
   "outputs": [],
   "source": [
    "angulosDirecoes = np.degrees(np.arccos(distanciasDirecoes))"
   ]
  },
  {
   "cell_type": "code",
   "execution_count": 12,
   "metadata": {},
   "outputs": [
    {
     "name": "stdout",
     "output_type": "stream",
     "text": [
      "625521\n",
      "625521.0\n"
     ]
    }
   ],
   "source": [
    "print(len(distanciasDirecoes))\n",
    "print(math.factorial(len(theta_rad))/(math.factorial(len(theta_rad)-2)*2))"
   ]
  },
  {
   "cell_type": "code",
   "execution_count": 13,
   "metadata": {},
   "outputs": [
    {
     "data": {
      "image/png": "[encoded data removed]",
      "text/plain": [
       "<Figure size 432x288 with 1 Axes>"
      ]
     },
     "metadata": {
      "needs_background": "light"
     },
     "output_type": "display_data"
    }
   ],
   "source": [
    "#Fazer histograma dos angulos\n",
    "div = 50\n",
    "plt.hist(angulosDirecoes, bins = np.arange(0,185,5), edgecolor='white',facecolor=azulQuanta)\n",
    "plt.xlabel(r'$\\psi$ (em graus)', fontsize = 12)\n",
    "plt.ylabel('Frequência', fontsize = 12)\n",
    "plt.savefig(path+'correlacao ângulo Auger', ext='png')\n",
    "plt.show()"
   ]
  },
  {
   "cell_type": "code",
   "execution_count": 14,
   "metadata": {},
   "outputs": [
    {
     "data": {
      "image/png": "[encoded data removed]",
      "text/plain": [
       "<Figure size 432x288 with 1 Axes>"
      ]
     },
     "metadata": {
      "needs_background": "light"
     },
     "output_type": "display_data"
    }
   ],
   "source": [
    "#Fazer histograma dos cossenos dos angulos\n",
    "div = 50\n",
    "plt.hist(distanciasDirecoes, bins = div, density=True, edgecolor='white',facecolor=azulQuanta)\n",
    "plt.xlabel(r'$cos\\psi$', fontsize = 12)\n",
    "plt.ylabel('Frequência', fontsize = 12)\n",
    "plt.savefig(path+'correlacao Auger', ext='png')\n",
    "plt.show()"
   ]
  },
  {
   "cell_type": "markdown",
   "metadata": {},
   "source": [
    "## Simulações"
   ]
  },
  {
   "cell_type": "code",
   "execution_count": 15,
   "metadata": {},
   "outputs": [],
   "source": [
    "def exposicao():\n",
    "    # Parametros\n",
    "    a0 = np.radians(-35.2)\n",
    "    theta_m = np.radians(60)\n",
    "    x_inicial = np.radians(-90)\n",
    "    x_final = np.radians(90)\n",
    "    #Criar vetores uniformemente distribuídos\n",
    "    N4 = 3700\n",
    "    #np.random.seed(192)\n",
    "    u = np.random.random_sample(N4)\n",
    "    #np.random.seed(96)\n",
    "    v = np.random.random_sample(N4)\n",
    "    #np.random.seed(3)\n",
    "    w = np.random.random_sample(N4)\n",
    "    np.random.seed()\n",
    "    #Associar phi e theta a u e v\n",
    "    phiEx_rad = 2. * np.pi * v \n",
    "    thetaEx_rad = np.arccos(((2. * u) - 1.))\n",
    "    #Relacionar alpha e delta (coordenadas equatoriais) com phi e theta \n",
    "    #alpha = phi\n",
    "    alpha_rad = phiEx_rad\n",
    "    #delta = theta - pi/2\n",
    "    delta_rad = thetaEx_rad - (np.pi / 2.)\n",
    "    #Calcula exposicao\n",
    "    omega = np.zeros(len(delta_rad))\n",
    "    for i in range(len(delta_rad)):\n",
    "        psi = (np.cos(theta_m) - (np.sin(a0) * np.sin(delta_rad[i])))/(np.cos(a0) * np.cos(delta_rad[i]))\n",
    "        if (psi > 1):\n",
    "            alfa_m = 0\n",
    "        elif (psi < (-1)):\n",
    "            alfa_m = np.pi\n",
    "        else:\n",
    "            alfa_m = np.arccos(psi)\n",
    "\n",
    "        omega[i] = ((np.cos(a0) * np.cos(delta_rad[i]) * np.sin(alfa_m)) + (alfa_m * np.sin(a0) * np.sin(delta_rad[i])))\n",
    "    # Normaliza o omega\n",
    "    omega_max = max(omega)\n",
    "    omega_relativo = omega/omega_max\n",
    "    # Aplica filtro e seleciona o delta referente\n",
    "    delta_in = []\n",
    "    alpha_in = []\n",
    "    for i in range(len(w)):\n",
    "        if w[i] < omega_relativo[i]:\n",
    "            delta_in.append(delta_rad[i])\n",
    "            alpha_in.append(alpha_rad[i])\n",
    "    phiEx_in = []\n",
    "    thetaEx_in = []\n",
    "    for i in range(len(alpha_in)):\n",
    "        phiEx_in.append(alpha_in[i])\n",
    "        #delta = theta - pi/2\n",
    "        thetaEx_in.append(delta_in[i] + (np.pi / 2.))\n",
    "    return thetaEx_in, phiEx_in"
   ]
  },
  {
   "cell_type": "code",
   "execution_count": 16,
   "metadata": {},
   "outputs": [],
   "source": [
    "thetas = []\n",
    "phis = []\n",
    "for i in range(100):\n",
    "    theta, phi = exposicao()\n",
    "    thetas.append(theta[0:1119])\n",
    "    phis.append(phi[0:1119])\n",
    "    #print(len(thetas[i]))"
   ]
  },
  {
   "cell_type": "code",
   "execution_count": 17,
   "metadata": {},
   "outputs": [],
   "source": [
    "distanciasExposicoes = []\n",
    "angulosExposicoes = []\n",
    "for i in range(len(thetas)):\n",
    "    distanciasExposicoes.append(distanciaCosseno(thetas[i], phis[i]))\n",
    "    angulosExposicoes.append(np.degrees(np.arccos(distanciasExposicoes[i])))"
   ]
  },
  {
   "cell_type": "code",
   "execution_count": 18,
   "metadata": {},
   "outputs": [],
   "source": [
    "def histograma_np(angulos):\n",
    "    y_bruto, x_bruto = np.histogram(angulos, bins=np.arange(0,185,5))\n",
    "    return y_bruto"
   ]
  },
  {
   "cell_type": "code",
   "execution_count": 19,
   "metadata": {},
   "outputs": [],
   "source": [
    "y_altura = []\n",
    "for i in range(len(angulosExposicoes)):\n",
    "    y_altura.append(histograma_np(angulosExposicoes[i]))\n",
    "    #print(len(angulosExposicoes[i]))\n",
    "\n",
    "#(y_altura[0][1])\n",
    "mediasCalculadas = []\n",
    "\n",
    "for i in range(len(y_altura[0])):\n",
    "    media = 0\n",
    "    for j in range(len(y_altura)):\n",
    "        media = y_altura[j][i] + media\n",
    "        #print(media)\n",
    "    mediasCalculadas.append(media/len(y_altura))"
   ]
  },
  {
   "cell_type": "code",
   "execution_count": 20,
   "metadata": {},
   "outputs": [
    {
     "data": {
      "text/plain": [
       "625521"
      ]
     },
     "execution_count": 20,
     "metadata": {},
     "output_type": "execute_result"
    }
   ],
   "source": [
    "y_dados = histograma_np(angulosDirecoes)\n",
    "len(angulosDirecoes)"
   ]
  },
  {
   "cell_type": "code",
   "execution_count": 35,
   "metadata": {},
   "outputs": [
    {
     "data": {
      "text/plain": [
       "<function matplotlib.pyplot.plot(*args, scalex=True, scaley=True, data=None, **kwargs)>"
      ]
     },
     "execution_count": 35,
     "metadata": {},
     "output_type": "execute_result"
    },
    {
     "data": {
      "image/png": "[encoded data removed]",
      "text/plain": [
       "<Figure size 432x288 with 1 Axes>"
      ]
     },
     "metadata": {
      "needs_background": "light"
     },
     "output_type": "display_data"
    }
   ],
   "source": [
    "plt.plot(np.arange(0,180,5),mediasCalculadas/max(mediasCalculadas),'.', color=azulQuanta, label = 'Média das simulações')\n",
    "plt.plot(np.arange(0,180,5),y_dados/max(y_dados),'.', color=laranjaShow, label = 'Dados reais')\n",
    "#plt.plot(np.arange(0,180,5),y_altura[4],'.', label = 'Dados reais')\n",
    "plt.xlabel(r'$\\psi$ (em graus)', fontsize = 12)\n",
    "plt.ylabel('Distribuição das distências angulares', fontsize = 12)\n",
    "plt.legend(loc='best')\n",
    "#plt.savefig(path+'real e simulados', ext='png')\n",
    "plt.plot"
   ]
  },
  {
   "cell_type": "code",
   "execution_count": 22,
   "metadata": {},
   "outputs": [],
   "source": [
    "def poissonVer(dados, medias):\n",
    "    prob = []\n",
    "    for i in range(len(medias)):\n",
    "        p = dados[i]*math.log(medias[i]) - medias[i] - math.log(math.factorial(dados[i]))\n",
    "        prob.append(p)\n",
    "    verr = sum(prob)\n",
    "    return verr\n",
    "\n",
    "verrReal = poissonVer(y_dados, mediasCalculadas)"
   ]
  },
  {
   "cell_type": "code",
   "execution_count": 23,
   "metadata": {},
   "outputs": [
    {
     "data": {
      "text/plain": [
       "-1552.8067902805055"
      ]
     },
     "execution_count": 23,
     "metadata": {},
     "output_type": "execute_result"
    }
   ],
   "source": [
    "verrReal"
   ]
  },
  {
   "cell_type": "code",
   "execution_count": 24,
   "metadata": {},
   "outputs": [
    {
     "data": {
      "text/plain": [
       "-1074.3823615310396"
      ]
     },
     "execution_count": 24,
     "metadata": {},
     "output_type": "execute_result"
    }
   ],
   "source": [
    "verrSimulado = []\n",
    "for i in range(len(y_altura)):\n",
    "    verrSimulado.append((poissonVer(y_altura[i], mediasCalculadas)))\n",
    "\n",
    "poissonVer(y_altura[0], mediasCalculadas)"
   ]
  },
  {
   "cell_type": "code",
   "execution_count": 25,
   "metadata": {},
   "outputs": [
    {
     "name": "stdout",
     "output_type": "stream",
     "text": [
      "36\n",
      "[1941.43, 5778.75, 9484.87, 13052.49, 16356.62, 19440.41, 22140.21, 24542.96, 26592.48, 28182.33, 29463.3, 30279.59, 30744.07, 30822.35, 30584.06, 29976.36, 29148.33, 27981.05, 26589.31, 25053.81, 23305.45, 21462.54, 19545.78, 17628.11, 15665.14, 13793.78, 11985.33, 10253.28, 8624.15, 7157.86, 5783.97, 4536.03, 3415.33, 2361.22, 1386.57, 461.68]\n"
     ]
    }
   ],
   "source": [
    "print(len(y_altura[0]))\n",
    "print(mediasCalculadas)\n",
    "#poisson(y_altura[0], medias[0])"
   ]
  },
  {
   "cell_type": "code",
   "execution_count": 26,
   "metadata": {},
   "outputs": [
    {
     "name": "stdout",
     "output_type": "stream",
     "text": [
      "[-1074.3823615310396, -425.44530982703736, -247.33041930452828, -314.20985788679354, -262.41248526228355, -710.0846248160703, -254.61875016131125, -506.1431699201544, -320.18838400423147, -235.82096323266705, -235.461274187232, -224.29480024664463, -297.2260895041645, -320.2840148315004, -246.22468768303997, -502.5394484959438, -289.3135357550823, -223.6376864994836, -326.75407115372445, -241.15976394317613, -463.2621057787078, -356.4456429662823, -856.7708851541186, -520.85747664264, -466.3367914106525, -279.4916355709979, -309.7592103992174, -267.05717162264045, -239.93611317193267, -237.06587279460928, -299.32666245874816, -336.98687702759435, -469.67033549708117, -305.415190728982, -305.6722176390872, -378.2652225286106, -409.6972190291208, -505.2681755473882, -299.8772717804077, -224.71687892187902, -240.25394957188837, -554.7641288984701, -495.2728278779223, -281.75344340980564, -213.47410082724718, -271.2692545603263, -272.1776633697277, -434.62117499689475, -226.14592926106297, -235.95308958372334, -326.4387650289764, -341.4779749693207, -376.60085814861986, -484.7190440244085, -457.4478711017632, -375.1101009968884, -225.6490469091691, -749.3850225745236, -245.13812239645767, -757.9841275298918, -774.6143798700975, -369.393348882536, -606.0528646911202, -487.2314352444914, -279.75454400958006, -439.9379081039692, -721.0834571006671, -219.4806566058328, -316.42571178261505, -241.77553942235863, -312.724391936707, -299.95086915208185, -222.5178072915851, -214.00196510475234, -265.8535034880774, -226.3957835331944, -290.5191427839818, -249.6061833818767, -239.4180623285265, -241.5332406423463, -818.1987603601578, -437.9891535065317, -285.2441405982404, -277.7750100913977, -243.47880137004677, -243.75627924517858, -287.68146973650073, -434.11664649388194, -328.51223769080434, -288.22650448491095, -420.45956192652875, -351.02374598244796, -235.8816087363989, -255.2806819763373, -298.5804081311253, -218.17423536310434, -244.45014656934973, -543.3504793789311, -225.44540527594472, -233.6482736960702]\n"
     ]
    }
   ],
   "source": [
    "print(verrSimulado)"
   ]
  },
  {
   "cell_type": "code",
   "execution_count": 27,
   "metadata": {},
   "outputs": [
    {
     "data": {
      "image/png": "[encoded data removed]",
      "text/plain": [
       "<Figure size 432x288 with 1 Axes>"
      ]
     },
     "metadata": {
      "needs_background": "light"
     },
     "output_type": "display_data"
    }
   ],
   "source": [
    "#Fazer histograma dos cossenos dos angulos\n",
    "div = 5\n",
    "plt.hist(verrSimulado, bins = div, edgecolor='white',facecolor=azulQuanta)\n",
    "plt.plot(verrReal,0,'o')\n",
    "#plt.xlabel(r'$cos\\psi$', fontsize = 12)\n",
    "#plt.ylabel('Frequência', fontsize = 12)\n",
    "#plt.savefig(path+'correlacao Auger', ext='png')\n",
    "plt.show()"
   ]
  },
  {
   "cell_type": "code",
   "execution_count": null,
   "metadata": {},
   "outputs": [],
   "source": []
  }
 ],
 "metadata": {
  "kernelspec": {
   "display_name": "Python 3",
   "language": "python",
   "name": "python3"
  },
  "language_info": {
   "codemirror_mode": {
    "name": "ipython",
    "version": 3
   },
   "file_extension": ".py",
   "mimetype": "text/x-python",
   "name": "python",
   "nbconvert_exporter": "python",
   "pygments_lexer": "ipython3",
   "version": "3.7.3"
  }
 },
 "nbformat": 4,
 "nbformat_minor": 2
}
