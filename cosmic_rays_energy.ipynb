{
 "cells": [
  {
   "cell_type": "markdown",
   "metadata": {},
   "source": [
    "# Enegia de raios cósmicos\n",
    "Para raios cósmicos com energia acima de 1 EeV até $\\infty$, a lei de potência que seguem é:\n",
    "$$f(E)\\,dE = A\\, E^{-2,6}\\, dE,$$\n",
    "em que $A = 1,6$ é a constante de normalização.\n",
    "\n",
    "Queremos amostrar energias aleatórias segundo a seguinte expressão, obtida do método da inversão:\n",
    "$$E^* = \\left(\\frac{1}{1-u^*}\\right)^{1/1,6},$$\n",
    "em que $u^*$ é uma variável uniformemente distribuída entre $[0,1]$."
   ]
  },
  {
   "cell_type": "code",
   "execution_count": 1,
   "metadata": {},
   "outputs": [],
   "source": [
    "import numpy as np\n",
    "import matplotlib.pyplot as plt"
   ]
  },
  {
   "cell_type": "code",
   "execution_count": 36,
   "metadata": {},
   "outputs": [],
   "source": [
    "num = 1000\n",
    "np.random.seed(1976)\n",
    "u = np.random.random_sample(num)\n",
    "np.random.seed()"
   ]
  },
  {
   "cell_type": "code",
   "execution_count": 37,
   "metadata": {},
   "outputs": [],
   "source": [
    "E = (1/(1-u))**(1/1.6)"
   ]
  },
  {
   "cell_type": "code",
   "execution_count": 38,
   "metadata": {},
   "outputs": [
    {
     "data": {
      "image/png": "[encoded data removed]",
      "text/plain": [
       "<Figure size 432x288 with 1 Axes>"
      ]
     },
     "metadata": {},
     "output_type": "display_data"
    }
   ],
   "source": [
    "# Histograma de E\n",
    "div = 500\n",
    "plt.hist(E, bins = div)\n",
    "plt.xlabel('Energia', fontsize = 12)\n",
    "plt.ylabel('Frequência', fontsize = 12)\n",
    "plt.xlim(0,10)\n",
    "plt.show()"
   ]
  },
  {
   "cell_type": "markdown",
   "metadata": {},
   "source": [
    "Vemos que segue o mesmo comportamento da lei de potência para energias de raios cósmicos."
   ]
  },
  {
   "cell_type": "code",
   "execution_count": 39,
   "metadata": {},
   "outputs": [
    {
     "data": {
      "image/png": "[encoded data removed]",
      "text/plain": [
       "<Figure size 432x288 with 1 Axes>"
      ]
     },
     "metadata": {},
     "output_type": "display_data"
    }
   ],
   "source": [
    "# Histograma em loglog\n",
    "plt.hist(E, bins = div, color = 'r')\n",
    "plt.xlabel('Energy', fontsize = 12)\n",
    "plt.ylabel('Frequency', fontsize = 12)\n",
    "plt.xscale('log', basex = 10)\n",
    "plt.yscale('log', basey = 10)\n",
    "plt.show()"
   ]
  },
  {
   "cell_type": "markdown",
   "metadata": {},
   "source": [
    "Observando um comportamento linear no histograma acima, podemos traçar uma reta."
   ]
  },
  {
   "cell_type": "code",
   "execution_count": 40,
   "metadata": {},
   "outputs": [],
   "source": [
    "y_bruto, x_bruto = np.histogram(E, bins = div)"
   ]
  },
  {
   "cell_type": "markdown",
   "metadata": {},
   "source": [
    "Geramos um histograma em que a primeira entrada (y) é o tamanho de cada barra do histograma e a segunda entrada (x), os bins. Como precisamos aplicar log nestes valores de y, queremos selecionar somente aqueles y > 0.\n",
    "Além disso, a tendência linear aplica-se somente para os primeiros valores (E < 10)."
   ]
  },
  {
   "cell_type": "code",
   "execution_count": 45,
   "metadata": {},
   "outputs": [],
   "source": [
    "x = []\n",
    "y = []\n",
    "for i in range(len(y_bruto)):\n",
    "    if(y_bruto[i] > 0 and x_bruto[i] < 10):\n",
    "        x.append(np.log10(x_bruto[i]))\n",
    "        y.append(np.log10(y_bruto[i]))\n",
    "        \n",
    "x = np.array(x)\n",
    "y = np.array(y)"
   ]
  },
  {
   "cell_type": "code",
   "execution_count": 46,
   "metadata": {},
   "outputs": [
    {
     "name": "stdout",
     "output_type": "stream",
     "text": [
      " \n",
      "-2.717 x + 2.664\n"
     ]
    }
   ],
   "source": [
    "# Faz o ajuste polinomial de grau 1 com x e y\n",
    "coef = np.polyfit(x, y, 1)\n",
    "pol = np.poly1d(coef)\n",
    "func = str(pol)\n",
    "print(func)"
   ]
  },
  {
   "cell_type": "code",
   "execution_count": 47,
   "metadata": {},
   "outputs": [],
   "source": [
    "# Calcula y pelo ajuste\n",
    "y_ajuste = pol(x)"
   ]
  },
  {
   "cell_type": "code",
   "execution_count": 48,
   "metadata": {},
   "outputs": [
    {
     "data": {
      "image/png": "[encoded data removed]",
      "text/plain": [
       "<Figure size 432x288 with 1 Axes>"
      ]
     },
     "metadata": {},
     "output_type": "display_data"
    }
   ],
   "source": [
    "# Faz o histograma de E\n",
    "plt.hist(E, bins = div, color = '#00FFFF')\n",
    "# Plota a reta com x e y_ajuste\n",
    "plt.plot(10**x, 10**(y_ajuste), '--', color = 'r', label = 'Ajuste polinomial:'+func)\n",
    "# Plota os pontos que foram utilizados\n",
    "plt.plot(10**x, 10**(y), '.', color = 'm', label = 'Dados utilizados para ajuste')\n",
    "plt.xlabel('Energia (EeV)', fontsize = 12)\n",
    "plt.ylabel('Frequência', fontsize = 12)\n",
    "plt.xscale('log', basex = 10)\n",
    "plt.yscale('log', basey = 10)\n",
    "plt.legend(fontsize = 10)\n",
    "plt.show()"
   ]
  },
  {
   "cell_type": "markdown",
   "metadata": {},
   "source": [
    "### Outro histograma de energia\n",
    "$$N(E)\\,dE = A\\, E^{-3}\\, dE$$\n",
    "em que $A = 2,0002$ é a constante de normalização.\n",
    "\n",
    "Queremos amostrar energias aleatórias segundo a seguinte expressão, obtida do método da inversão:\n",
    "$$E^* = \\left(\\frac{1}{1-u^*}\\right)^{1/2},$$\n",
    "em que $u^*$ é uma variável uniformemente distribuída entre $[0,1]$."
   ]
  },
  {
   "cell_type": "code",
   "execution_count": 6,
   "metadata": {},
   "outputs": [
    {
     "name": "stdout",
     "output_type": "stream",
     "text": [
      "[1.2 1.2 1.  1.7 1.2 2.2 2.  4.5 1.3 2.1 1.6 1.4 1.6 1.8 1.6 1.2 1.4 1.4\n",
      " 3.4 1.2 1.6 2.5 1.3 1.6 1.2 2.  1.2 1.1 2.2 1. ]\n"
     ]
    }
   ],
   "source": [
    "np.random.seed(1599)\n",
    "u_new = np.random.random_sample(30)\n",
    "np.random.seed()\n",
    "\n",
    "E_new = (1/(1-u_new))**(1/2)\n",
    "\n",
    "print(E_new.round(1))"
   ]
  },
  {
   "cell_type": "code",
   "execution_count": 12,
   "metadata": {},
   "outputs": [
    {
     "data": {
      "image/png": "[encoded data removed]",
      "text/plain": [
       "<Figure size 432x288 with 1 Axes>"
      ]
     },
     "metadata": {},
     "output_type": "display_data"
    }
   ],
   "source": [
    "# Histograma de E\n",
    "div = 10\n",
    "plt.hist(E_new, bins = div)\n",
    "plt.xlabel('Energia', fontsize = 12)\n",
    "plt.ylabel('Frequência', fontsize = 12)\n",
    "plt.xscale('log', basex = 10)\n",
    "plt.yscale('log', basey = 10)\n",
    "plt.show()"
   ]
  },
  {
   "cell_type": "markdown",
   "metadata": {},
   "source": [
    "### Histograma de exponencial\n",
    "$$N(x)\\,dx = A\\, e^{-x}\\, dx$$\n",
    "em que $A = 1$ é a constante de normalização.\n",
    "\n",
    "Queremos amostrar energias aleatórias segundo a seguinte expressão, obtida do método da inversão:\n",
    "$$x^* = -ln(1-u^*),$$\n",
    "em que $u^*$ é uma variável uniformemente distribuída entre $[0,1]$."
   ]
  },
  {
   "cell_type": "code",
   "execution_count": 17,
   "metadata": {},
   "outputs": [
    {
     "name": "stdout",
     "output_type": "stream",
     "text": [
      "1.0\n"
     ]
    }
   ],
   "source": [
    "A = 1-np.exp(-10)\n",
    "print(round(A,3))"
   ]
  },
  {
   "cell_type": "code",
   "execution_count": 26,
   "metadata": {},
   "outputs": [
    {
     "name": "stdout",
     "output_type": "stream",
     "text": [
      "[0.8 1.4 0.3 1.5 0.4 1.6 0.4 0.6 0.4 0.6 0.9 0.1 0.  1.7 0.5 1.3 0.5 0.8\n",
      " 0.3 1.7 1.4 1.6 1.1 0.8 1.5 3.3 3.1 0.8 0.3 0.3]\n"
     ]
    }
   ],
   "source": [
    "np.random.seed(1998)\n",
    "v_new = np.random.random_sample(30)\n",
    "np.random.seed()\n",
    "\n",
    "x_new = -np.log(1-v_new)\n",
    "\n",
    "print(x_new.round(1))"
   ]
  },
  {
   "cell_type": "code",
   "execution_count": 23,
   "metadata": {},
   "outputs": [
    {
     "data": {
      "image/png": "[encoded data removed]",
      "text/plain": [
       "<Figure size 432x288 with 1 Axes>"
      ]
     },
     "metadata": {},
     "output_type": "display_data"
    }
   ],
   "source": [
    "# Histograma de x\n",
    "div = 10\n",
    "plt.hist(x_new, bins = div)\n",
    "plt.xlabel('x', fontsize = 12)\n",
    "plt.ylabel('Frequência', fontsize = 12)\n",
    "#plt.xscale('log', basex = 10)\n",
    "plt.yscale('log', basey = 10)\n",
    "plt.show()"
   ]
  }
 ],
 "metadata": {
  "kernelspec": {
   "display_name": "Python 3",
   "language": "python",
   "name": "python3"
  },
  "language_info": {
   "codemirror_mode": {
    "name": "ipython",
    "version": 3
   },
   "file_extension": ".py",
   "mimetype": "text/x-python",
   "name": "python",
   "nbconvert_exporter": "python",
   "pygments_lexer": "ipython3",
   "version": "3.6.5"
  }
 },
 "nbformat": 4,
 "nbformat_minor": 2
}
