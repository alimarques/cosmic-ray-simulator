{
 "cells": [
  {
   "cell_type": "code",
   "execution_count": 1,
   "metadata": {},
   "outputs": [],
   "source": [
    "import numpy as np\n",
    "import pandas as pd\n",
    "import math"
   ]
  },
  {
   "cell_type": "code",
   "execution_count": 2,
   "metadata": {},
   "outputs": [],
   "source": [
    "def recebe_matriz():\n",
    "    matriz = []\n",
    "    solucao = []\n",
    "    # Recebe matriz\n",
    "    for i in range(3):\n",
    "        matriz.append((input('Escreva a coordenada Easting e Northing (em metros) do tanque (separados por vírgula): ').split(',')))\n",
    "    # Recebe solucao (parte b)\n",
    "    solucao.append((input('Escreva os tempos (em ns), na ordem dada dos tanques (separados por vírgula): ').split(',')))\n",
    "    for i in range(3):\n",
    "        for j in range(2):\n",
    "            matriz[i][j] = float(matriz[i][j])\n",
    "            if j == 0:\n",
    "                matriz[i].append(-1)\n",
    "    for j in range(3):\n",
    "        solucao[0][j] = -0.3 * float(solucao[0][j])\n",
    "    return matriz, solucao\n",
    "\n",
    "# Define função para resolver sistema\n",
    "def resolve_sist_linear (a, b):\n",
    "    x = np.linalg.solve(a, b)\n",
    "    if np.allclose(np.dot(a, x), b):\n",
    "        return x\n",
    "    else:\n",
    "        return 'Impossible sistem'"
   ]
  },
  {
   "cell_type": "code",
   "execution_count": 3,
   "metadata": {},
   "outputs": [],
   "source": [
    "# Define angulo diretor\n",
    "def calcula_gama(a, b):\n",
    "    cos_gama = (1 - a**2 - b**2)**(1/2)\n",
    "    return cos_gama"
   ]
  },
  {
   "cell_type": "code",
   "execution_count": 4,
   "metadata": {},
   "outputs": [],
   "source": [
    "def calcula_theta(cos_gama):\n",
    "    theta = math.acos(cos_gama)\n",
    "    theta = math.degrees(theta)\n",
    "    return theta\n",
    "\n",
    "def calcula_phi(cos_alfa, cos_beta):\n",
    "    tg_phi = cos_beta/cos_alfa\n",
    "    phi = math.atan(tg_phi)\n",
    "    phi = math.degrees(phi)\n",
    "    if (cos_alfa > 0 and cos_beta > 0):\n",
    "        return phi\n",
    "    if (cos_alfa < 0 and cos_beta < 0):\n",
    "        return phi + 180\n",
    "    if (cos_alfa > 0 and cos_beta < 0):\n",
    "        return 360 + phi\n",
    "    if (cos_alfa < 0 and cos_beta > 0):\n",
    "        return 180 + phi"
   ]
  },
  {
   "cell_type": "code",
   "execution_count": 5,
   "metadata": {},
   "outputs": [],
   "source": [
    "def calculo_final(matriz, solucao):\n",
    "    #matriz, solucao = recebe_matriz()\n",
    "    cos_alfa, cos_beta, d = resolve_sist_linear(matriz, solucao)\n",
    "    print(cos_alfa)\n",
    "    print(cos_beta)\n",
    "    cos_gama = calcula_gama(cos_alfa, cos_beta)\n",
    "    theta = calcula_theta(cos_gama)\n",
    "    phi = calcula_phi(cos_alfa, cos_beta)\n",
    "    print(\"O ângulo theta é: \", round(theta, 1), \".\\n O ângulo phi é: \", round(phi,1))\n",
    "    return round(theta,1), round(phi,1)"
   ]
  },
  {
   "cell_type": "code",
   "execution_count": 9,
   "metadata": {
    "scrolled": true
   },
   "outputs": [
    {
     "data": {
      "text/html": [
       "<div>\n",
       "<style scoped>\n",
       "    .dataframe tbody tr th:only-of-type {\n",
       "        vertical-align: middle;\n",
       "    }\n",
       "\n",
       "    .dataframe tbody tr th {\n",
       "        vertical-align: top;\n",
       "    }\n",
       "\n",
       "    .dataframe thead th {\n",
       "        text-align: right;\n",
       "    }\n",
       "</style>\n",
       "<table border=\"1\" class=\"dataframe\">\n",
       "  <thead>\n",
       "    <tr style=\"text-align: right;\">\n",
       "      <th></th>\n",
       "      <th>#Id</th>\n",
       "      <th>Signal(VEM)</th>\n",
       "      <th>Time(sec)</th>\n",
       "      <th>Time(ns)</th>\n",
       "      <th>Easting(m)</th>\n",
       "      <th>Northing(m)</th>\n",
       "      <th>Altitude(m)</th>\n",
       "    </tr>\n",
       "  </thead>\n",
       "  <tbody>\n",
       "    <tr>\n",
       "      <th>0</th>\n",
       "      <td>258</td>\n",
       "      <td>46.54</td>\n",
       "      <td>1539898294</td>\n",
       "      <td>475899842</td>\n",
       "      <td>474624.57</td>\n",
       "      <td>6097035.84</td>\n",
       "      <td>1403.26</td>\n",
       "    </tr>\n",
       "    <tr>\n",
       "      <th>1</th>\n",
       "      <td>1873</td>\n",
       "      <td>7.97</td>\n",
       "      <td>1539898294</td>\n",
       "      <td>475896922</td>\n",
       "      <td>476121.81</td>\n",
       "      <td>6097029.27</td>\n",
       "      <td>1400.37</td>\n",
       "    </tr>\n",
       "    <tr>\n",
       "      <th>2</th>\n",
       "      <td>217</td>\n",
       "      <td>4.16</td>\n",
       "      <td>1539898294</td>\n",
       "      <td>475903469</td>\n",
       "      <td>473880.34</td>\n",
       "      <td>6095739.77</td>\n",
       "      <td>1398.17</td>\n",
       "    </tr>\n",
       "    <tr>\n",
       "      <th>3</th>\n",
       "      <td>525</td>\n",
       "      <td>3.11</td>\n",
       "      <td>1539898294</td>\n",
       "      <td>475896312</td>\n",
       "      <td>475440.08</td>\n",
       "      <td>6098332.71</td>\n",
       "      <td>1397.02</td>\n",
       "    </tr>\n",
       "  </tbody>\n",
       "</table>\n",
       "</div>"
      ],
      "text/plain": [
       "    #Id  Signal(VEM)   Time(sec)   Time(ns)  Easting(m)  Northing(m)  \\\n",
       "0   258        46.54  1539898294  475899842   474624.57   6097035.84   \n",
       "1  1873         7.97  1539898294  475896922   476121.81   6097029.27   \n",
       "2   217         4.16  1539898294  475903469   473880.34   6095739.77   \n",
       "3   525         3.11  1539898294  475896312   475440.08   6098332.71   \n",
       "\n",
       "   Altitude(m)  \n",
       "0      1403.26  \n",
       "1      1400.37  \n",
       "2      1398.17  \n",
       "3      1397.02  "
      ]
     },
     "execution_count": 9,
     "metadata": {},
     "output_type": "execute_result"
    }
   ],
   "source": [
    "dados = pd.read_csv(\"auger_events/event2_50482400.csv\", sep = ' ')\n",
    "dados.head()"
   ]
  },
  {
   "cell_type": "code",
   "execution_count": 10,
   "metadata": {},
   "outputs": [],
   "source": [
    "easting = dados['Easting(m)']\n",
    "northing = dados['Northing(m)']\n",
    "tempo = dados['Time(ns)']"
   ]
  },
  {
   "cell_type": "code",
   "execution_count": 11,
   "metadata": {},
   "outputs": [],
   "source": [
    "x1 = easting[0]\n",
    "x2 = easting[1]\n",
    "x3 = easting[2]\n",
    "x4 = easting[3]\n",
    "\n",
    "y1 = northing[0]\n",
    "y2 = northing[1]\n",
    "y3 = northing[2]\n",
    "y4 = northing[3]\n",
    "\n",
    "t1 = tempo[0] * (-0.3)\n",
    "t2 = tempo[1] * (-0.3)\n",
    "t3 = tempo[2] * (-0.3)\n",
    "t4 = tempo[3] * (-0.3)"
   ]
  },
  {
   "cell_type": "code",
   "execution_count": 12,
   "metadata": {},
   "outputs": [],
   "source": [
    "matriz123 = [[x1,y1, -1],[x2,y2, -1],[x3,y3, -1]]\n",
    "tempo123 = [t1,t2,t3]\n",
    "\n",
    "matriz124 = [[x1,y1, -1],[x2,y2, -1],[x4,y4, -1]]\n",
    "tempo124 = [t1,t2,t4]\n",
    "\n",
    "matriz134 = [[x1,y1, -1],[x3,y3, -1],[x4,y4, -1]]\n",
    "tempo134 = [t1,t3,t4]\n",
    "\n",
    "matriz234 = [[x2,y2, -1],[x3,y3, -1],[x4,y4, -1]]\n",
    "tempo234 = [t2,t3,t4]"
   ]
  },
  {
   "cell_type": "code",
   "execution_count": 13,
   "metadata": {},
   "outputs": [
    {
     "name": "stdout",
     "output_type": "stream",
     "text": [
      "0.5872807114512015\n",
      "0.5023093475746754\n",
      "O ângulo theta é:  50.6 .\n",
      " O ângulo phi é:  40.5\n",
      "0.587039912161912\n",
      "0.44743349852722863\n",
      "O ângulo theta é:  47.6 .\n",
      " O ângulo phi é:  37.3\n",
      "-0.4203807995407685\n",
      "1.0809292726669937\n",
      "O ângulo theta é:  nan .\n",
      " O ângulo phi é:  111.3\n",
      "0.6114927159058717\n",
      "0.4602228942012694\n",
      "O ângulo theta é:  49.9 .\n",
      " O ângulo phi é:  37.0\n"
     ]
    },
    {
     "name": "stderr",
     "output_type": "stream",
     "text": [
      "/tmp/ipykernel_223236/26586564.py:3: RuntimeWarning: invalid value encountered in double_scalars\n",
      "  cos_gama = (1 - a**2 - b**2)**(1/2)\n"
     ]
    },
    {
     "data": {
      "text/plain": [
       "(49.9, 37.0)"
      ]
     },
     "execution_count": 13,
     "metadata": {},
     "output_type": "execute_result"
    }
   ],
   "source": [
    "calculo_final(matriz123, tempo123)\n",
    "calculo_final(matriz124, tempo124)\n",
    "calculo_final(matriz134, tempo134)\n",
    "calculo_final(matriz234, tempo234)"
   ]
  },
  {
   "cell_type": "code",
   "execution_count": null,
   "metadata": {},
   "outputs": [],
   "source": []
  },
  {
   "cell_type": "code",
   "execution_count": null,
   "metadata": {},
   "outputs": [],
   "source": []
  }
 ],
 "metadata": {
  "kernelspec": {
   "display_name": "Python 3",
   "language": "python",
   "name": "python3"
  },
  "language_info": {
   "codemirror_mode": {
    "name": "ipython",
    "version": 3
   },
   "file_extension": ".py",
   "mimetype": "text/x-python",
   "name": "python",
   "nbconvert_exporter": "python",
   "pygments_lexer": "ipython3",
   "version": "3.6.5"
  }
 },
 "nbformat": 4,
 "nbformat_minor": 2
}
