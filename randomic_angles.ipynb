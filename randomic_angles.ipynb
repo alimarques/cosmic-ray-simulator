{
 "cells": [
  {
   "cell_type": "markdown",
   "metadata": {},
   "source": [
    "# Ângulos randômicos\n",
    "Iremos amostrar ângulos $\\phi$ e $\\theta$. as suas expressões são:\n",
    "$$\\phi^* = 2\\pi \\, u^*$$ e\n",
    "$$\\theta^* = arccos(2\\, v^* - 1),$$\n",
    "em que $u^*$ e $v^*$ são variáveis uniformemente distribuídas entre $[0,1]$."
   ]
  },
  {
   "cell_type": "markdown",
   "metadata": {},
   "source": [
    "A isotropia é em um ***ângulo sólido***, e não em $\\phi$ e $\\theta$ separadamente. Veja que a fórmula para um ângulo sólido é:\n",
    "$$d\\Omega = sin\\theta\\, d\\theta\\,d\\phi.$$\n",
    "As expressões de $\\phi$ e $\\theta$ surgem a partir do método da inversão na expressão de $d\\Omega$."
   ]
  },
  {
   "cell_type": "code",
   "execution_count": 2,
   "metadata": {},
   "outputs": [],
   "source": [
    "import numpy as np\n",
    "import matplotlib.pyplot as plt\n",
    "path = 'C:/Users/alice/Documents/Unicamp/IC 2018 - 2019/Imagens IC/'\n",
    "azulQuanta = '#117DF5'\n",
    "azuldarkQuanta = '#086A99'\n",
    "laranjaShow = '#FF7F27'"
   ]
  },
  {
   "cell_type": "code",
   "execution_count": 3,
   "metadata": {},
   "outputs": [],
   "source": [
    "# Cria 100 mil números aleatórios para cada vetor\n",
    "np.random.seed(1998)\n",
    "u = np.random.random_sample(10000)\n",
    "np.random.seed(749)\n",
    "v = np.random.random_sample(10000)\n",
    "np.random.seed()"
   ]
  },
  {
   "cell_type": "code",
   "execution_count": 4,
   "metadata": {},
   "outputs": [],
   "source": [
    "# Cria phi e theta, ambos em graus\n",
    "phi = np.degrees((2.*np.pi) * u)\n",
    "theta = np.degrees(np.arccos(2.*v-1.))"
   ]
  },
  {
   "cell_type": "code",
   "execution_count": 5,
   "metadata": {},
   "outputs": [
    {
     "data": {
      "image/png": "[encoded data removed]",
      "text/plain": [
       "<Figure size 432x288 with 1 Axes>"
      ]
     },
     "metadata": {},
     "output_type": "display_data"
    }
   ],
   "source": [
    "# Histograma do phi\n",
    "plt.hist(phi, bins = 25, density = True, edgecolor='white', facecolor = azulQuanta)\n",
    "plt.xlabel(r\"$\\phi \\ (^{\\circ})$\", fontsize = 15)\n",
    "plt.ylabel(\"Frequência\", fontsize = 12)\n",
    "#plt.ylim(0.0024,0.0031)\n",
    "plt.savefig(path+\"Distribuição Phi\", ext = 'png')\n",
    "plt.show()"
   ]
  },
  {
   "cell_type": "markdown",
   "metadata": {},
   "source": [
    "$\\phi$ possui isotropia. Porém, para observarmos a mesma isotropia em $\\theta$, devemos plotar em função de cosseno."
   ]
  },
  {
   "cell_type": "code",
   "execution_count": 6,
   "metadata": {},
   "outputs": [
    {
     "data": {
      "image/png": "[encoded data removed]",
      "text/plain": [
       "<Figure size 432x288 with 1 Axes>"
      ]
     },
     "metadata": {},
     "output_type": "display_data"
    }
   ],
   "source": [
    "theta_rad = np.radians(theta)\n",
    "cos_theta = np.cos(theta_rad)\n",
    "\n",
    "plt.hist(cos_theta, bins = 25, density = True, edgecolor='white', facecolor = azulQuanta)\n",
    "plt.xlabel(r\"cos$\\,\\theta$\", fontsize = 15)\n",
    "plt.ylabel(\"Frequência\", fontsize = 12)\n",
    "#plt.ylim(0.4,0.575)\n",
    "plt.savefig(path+\"Distribuição Theta\", ext = 'png')\n",
    "plt.show()"
   ]
  },
  {
   "cell_type": "code",
   "execution_count": null,
   "metadata": {},
   "outputs": [],
   "source": []
  },
  {
   "cell_type": "code",
   "execution_count": null,
   "metadata": {},
   "outputs": [],
   "source": []
  }
 ],
 "metadata": {
  "kernelspec": {
   "display_name": "Python 3",
   "language": "python",
   "name": "python3"
  },
  "language_info": {
   "codemirror_mode": {
    "name": "ipython",
    "version": 3
   },
   "file_extension": ".py",
   "mimetype": "text/x-python",
   "name": "python",
   "nbconvert_exporter": "python",
   "pygments_lexer": "ipython3",
   "version": "3.6.5"
  }
 },
 "nbformat": 4,
 "nbformat_minor": 2
}
