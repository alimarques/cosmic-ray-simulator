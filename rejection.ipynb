{
 "cells": [
  {
   "cell_type": "markdown",
   "metadata": {},
   "source": [
    "# Método da rejeição\n",
    "Às vezes, ao utilizarmos o método da aceitação, nos deparamos com multiplicações de funções complexas de se realizar a inversão. Para isso, usamos o método da rejeição. Queremos analisar funções do tipo:\n",
    "$$F(x) = \\alpha\\,f(x)\\,g(x),$$\n",
    "em que:\n",
    "$$\\int_a^b F(x)\\,d(x) = 1$$ e\n",
    "$$B\\int_a^b f(x)\\,d(x) = 1.$$\n",
    "\n",
    "Chamamos $g(x)$ de função de rejeição (será a função mais complexa). Sorteia-se $u_1$ e obtem $x^*$ a partir de $f$. Sorteia-se $u_2$ e, caso $u_2 < g(x^*) \\Rightarrow$ Aceita; se $u_2 > g(x^*) \\Rightarrow$ Rejeita."
   ]
  },
  {
   "cell_type": "code",
   "execution_count": 1,
   "metadata": {},
   "outputs": [],
   "source": [
    "import numpy as np\n",
    "import matplotlib.pyplot as plt"
   ]
  },
  {
   "cell_type": "code",
   "execution_count": 9,
   "metadata": {},
   "outputs": [],
   "source": [
    "N = 10000\n",
    "np.random.seed(392)\n",
    "u_1 = np.random.random_sample(N)\n",
    "np.random.seed(100)\n",
    "u_2 = np.random.random_sample(N)\n",
    "np.random.seed()"
   ]
  },
  {
   "cell_type": "markdown",
   "metadata": {},
   "source": [
    "#### cos(x).(1-xe^(-x)), de 0 a pi/4\n",
    "Aplicar o método para a função:\n",
    "$$F(x) = cos(x)\\,(1-x\\,e^{-x}),$$\n",
    "de $[0,\\pi/4]$.\n",
    "\n",
    "Para achar o valor de A, usar o programa que calcula integrais."
   ]
  },
  {
   "cell_type": "code",
   "execution_count": 10,
   "metadata": {},
   "outputs": [],
   "source": [
    "A = 0.529073121527969\n",
    "B = 2**(1/2)\n",
    "alfa = A/B"
   ]
  },
  {
   "cell_type": "code",
   "execution_count": 11,
   "metadata": {},
   "outputs": [],
   "source": [
    "# Confere se 0 <= g <= 1\n",
    "passo = 0.01\n",
    "x = np.arange(0, np.pi/4+passo, passo)\n",
    "g = 1 - x * np.exp(- x)\n",
    "\n",
    "for i in range(len(g)):\n",
    "    if g[i] < 0 or g[i] > 1:\n",
    "        print('error')"
   ]
  },
  {
   "cell_type": "code",
   "execution_count": 12,
   "metadata": {},
   "outputs": [],
   "source": [
    "# Inversa da f1\n",
    "x_star = np.arcsin(u_1/(2**(1/2)))"
   ]
  },
  {
   "cell_type": "code",
   "execution_count": 13,
   "metadata": {},
   "outputs": [],
   "source": [
    "g_star = 1 - x_star * np.exp(- x_star)"
   ]
  },
  {
   "cell_type": "code",
   "execution_count": 14,
   "metadata": {},
   "outputs": [],
   "source": [
    "random_numb = []\n",
    "for i in range(len(u_2)):\n",
    "    if u_2[i] < g_star[i]:\n",
    "        random_numb.append(g_star[i])"
   ]
  },
  {
   "cell_type": "code",
   "execution_count": 15,
   "metadata": {},
   "outputs": [
    {
     "data": {
      "text/plain": [
       "[<matplotlib.lines.Line2D at 0x178d4294c88>]"
      ]
     },
     "execution_count": 15,
     "metadata": {},
     "output_type": "execute_result"
    },
    {
     "data": {
      "image/png": "[encoded data removed]",
      "text/plain": [
       "<Figure size 432x288 with 1 Axes>"
      ]
     },
     "metadata": {},
     "output_type": "display_data"
    }
   ],
   "source": [
    "div = 100\n",
    "hist_f = np.histogram(random_numb, bins = div)\n",
    "y_f = hist_f[0]\n",
    "y_f = y_f/y_f[0]\n",
    "y_f = y_f[0:80]\n",
    "\n",
    "plt.plot(x, y_f, \".\", color = 'g', label = r'$f(x)$')"
   ]
  },
  {
   "cell_type": "code",
   "execution_count": null,
   "metadata": {},
   "outputs": [],
   "source": []
  }
 ],
 "metadata": {
  "kernelspec": {
   "display_name": "Python 3",
   "language": "python",
   "name": "python3"
  },
  "language_info": {
   "codemirror_mode": {
    "name": "ipython",
    "version": 3
   },
   "file_extension": ".py",
   "mimetype": "text/x-python",
   "name": "python",
   "nbconvert_exporter": "python",
   "pygments_lexer": "ipython3",
   "version": "3.6.5"
  }
 },
 "nbformat": 4,
 "nbformat_minor": 2
}
